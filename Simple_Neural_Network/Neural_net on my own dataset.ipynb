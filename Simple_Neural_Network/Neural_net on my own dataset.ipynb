{
 "cells": [
  {
   "cell_type": "code",
   "execution_count": 1,
   "metadata": {},
   "outputs": [
    {
     "name": "stderr",
     "output_type": "stream",
     "text": [
      "/home/mrigank/anaconda3/lib/python3.6/site-packages/tensorflow/python/framework/dtypes.py:523: FutureWarning: Passing (type, 1) or '1type' as a synonym of type is deprecated; in a future version of numpy, it will be understood as (type, (1,)) / '(1,)type'.\n",
      "  _np_qint8 = np.dtype([(\"qint8\", np.int8, 1)])\n",
      "/home/mrigank/anaconda3/lib/python3.6/site-packages/tensorflow/python/framework/dtypes.py:524: FutureWarning: Passing (type, 1) or '1type' as a synonym of type is deprecated; in a future version of numpy, it will be understood as (type, (1,)) / '(1,)type'.\n",
      "  _np_quint8 = np.dtype([(\"quint8\", np.uint8, 1)])\n",
      "/home/mrigank/anaconda3/lib/python3.6/site-packages/tensorflow/python/framework/dtypes.py:525: FutureWarning: Passing (type, 1) or '1type' as a synonym of type is deprecated; in a future version of numpy, it will be understood as (type, (1,)) / '(1,)type'.\n",
      "  _np_qint16 = np.dtype([(\"qint16\", np.int16, 1)])\n",
      "/home/mrigank/anaconda3/lib/python3.6/site-packages/tensorflow/python/framework/dtypes.py:526: FutureWarning: Passing (type, 1) or '1type' as a synonym of type is deprecated; in a future version of numpy, it will be understood as (type, (1,)) / '(1,)type'.\n",
      "  _np_quint16 = np.dtype([(\"quint16\", np.uint16, 1)])\n",
      "/home/mrigank/anaconda3/lib/python3.6/site-packages/tensorflow/python/framework/dtypes.py:527: FutureWarning: Passing (type, 1) or '1type' as a synonym of type is deprecated; in a future version of numpy, it will be understood as (type, (1,)) / '(1,)type'.\n",
      "  _np_qint32 = np.dtype([(\"qint32\", np.int32, 1)])\n",
      "/home/mrigank/anaconda3/lib/python3.6/site-packages/tensorflow/python/framework/dtypes.py:532: FutureWarning: Passing (type, 1) or '1type' as a synonym of type is deprecated; in a future version of numpy, it will be understood as (type, (1,)) / '(1,)type'.\n",
      "  np_resource = np.dtype([(\"resource\", np.ubyte, 1)])\n",
      "/home/mrigank/anaconda3/lib/python3.6/site-packages/h5py/__init__.py:34: FutureWarning: Conversion of the second argument of issubdtype from `float` to `np.floating` is deprecated. In future, it will be treated as `np.float64 == np.dtype(float).type`.\n",
      "  from ._conv import register_converters as _register_converters\n"
     ]
    }
   ],
   "source": [
    "import numpy as np\n",
    "import pandas as pd\n",
    "import seaborn as sns\n",
    "import matplotlib.pyplot as plt\n",
    "from sklearn import datasets\n",
    "import tensorflow as tf\n",
    "import sklearn\n",
    "%matplotlib inline"
   ]
  },
  {
   "cell_type": "code",
   "execution_count": 2,
   "metadata": {},
   "outputs": [],
   "source": [
    "np.random.seed(0)\n",
    "x,y=sklearn.datasets.make_moons(200,noise=0.20)"
   ]
  },
  {
   "cell_type": "code",
   "execution_count": 3,
   "metadata": {},
   "outputs": [],
   "source": [
    "y=y.reshape(200,1)"
   ]
  },
  {
   "cell_type": "code",
   "execution_count": 4,
   "metadata": {},
   "outputs": [
    {
     "data": {
      "text/plain": [
       "<matplotlib.collections.PathCollection at 0x7f862a98eba8>"
      ]
     },
     "execution_count": 4,
     "metadata": {},
     "output_type": "execute_result"
    },
    {
     "data": {
      "image/png": "[encoded data removed]",
      "text/plain": [
       "<matplotlib.figure.Figure at 0x7f862a99f9e8>"
      ]
     },
     "metadata": {},
     "output_type": "display_data"
    }
   ],
   "source": [
    "plt.scatter(x[:,0],x[:,1],cmap=plt.cm.Spectral,s=40)"
   ]
  },
  {
   "cell_type": "code",
   "execution_count": 5,
   "metadata": {},
   "outputs": [],
   "source": [
    "x=x.reshape(x.shape[0],-1).T\n",
    "y=y.reshape(y.shape[0],-1).T"
   ]
  },
  {
   "cell_type": "code",
   "execution_count": 6,
   "metadata": {},
   "outputs": [],
   "source": [
    "def sigmoid(Z):\n",
    "    return 1/(1+np.exp(-Z)),Z"
   ]
  },
  {
   "cell_type": "code",
   "execution_count": 7,
   "metadata": {
    "collapsed": true
   },
   "outputs": [],
   "source": [
    "def sigmoid_backward(dA, cache):\n",
    "    Z = cache\n",
    "    s = 1/(1+np.exp(-Z))\n",
    "    dZ = dA * s * (1-s)\n",
    "    return dZ"
   ]
  },
  {
   "cell_type": "code",
   "execution_count": 8,
   "metadata": {
    "collapsed": true
   },
   "outputs": [],
   "source": [
    "def tanh_backward(dA, cache):\n",
    "    Z = cache\n",
    "    dZ = dA * (1-(np.tanh(Z)*np.tanh(Z)))\n",
    "    return dZ"
   ]
  },
  {
   "cell_type": "code",
   "execution_count": 9,
   "metadata": {},
   "outputs": [],
   "source": [
    "def initialize_parameters(layer_dims):\n",
    "    parameters={}\n",
    "    l=len(layer_dims)\n",
    "    for i in range(1,l):\n",
    "        parameters['W'+str(i)]=np.random.randn(layer_dims[i],layer_dims[i-1])*0.01\n",
    "        parameters['b'+str(i)]=np.zeros((layer_dims[i],1))\n",
    "    return parameters    "
   ]
  },
  {
   "cell_type": "code",
   "execution_count": 10,
   "metadata": {
    "collapsed": true
   },
   "outputs": [],
   "source": [
    "def linear_forward(A,W,b):\n",
    "    Z=np.dot(W,A)+b\n",
    "    cache=(A,W,b)\n",
    "    return Z,cache"
   ]
  },
  {
   "cell_type": "code",
   "execution_count": 11,
   "metadata": {
    "collapsed": true
   },
   "outputs": [],
   "source": [
    "def linear_activation_forward(A_prev,W,b,activation):\n",
    "    if(activation=='tanh'):\n",
    "        Z,linear_cache=linear_forward(A_prev,W,b)\n",
    "        A=np.tanh(Z)\n",
    "        activation_cache=Z\n",
    "    elif(activation=='sigmoid'):\n",
    "        Z,linear_cache=linear_forward(A_prev,W,b)\n",
    "        A,activation_cache=sigmoid(Z)\n",
    "    cache=(linear_cache,activation_cache)\n",
    "    return A,cache"
   ]
  },
  {
   "cell_type": "code",
   "execution_count": 12,
   "metadata": {
    "collapsed": true
   },
   "outputs": [],
   "source": [
    "def L_model_forward(X,parameters):\n",
    "    caches=[]\n",
    "    l=len(parameters)//2\n",
    "    A_prev=X\n",
    "    for i in range(1,l):\n",
    "        A,cache=linear_activation_forward(A_prev,parameters['W'+str(i)],parameters['b'+str(i)],'tanh')\n",
    "        caches.append(cache)\n",
    "        A_prev=A\n",
    "    A,cache=linear_activation_forward(A_prev,parameters['W'+str(l)],parameters['b'+str(l)],'sigmoid')\n",
    "    caches.append(cache)\n",
    "    return A,caches    "
   ]
  },
  {
   "cell_type": "code",
   "execution_count": 13,
   "metadata": {
    "collapsed": true
   },
   "outputs": [],
   "source": [
    "def compute_cost(A,Y):\n",
    "    m=Y.shape[1]\n",
    "    cost = (-1./ m) * np.sum(np.multiply(Y, np.log(A)) + np.multiply((1-Y), np.log(1-A)))\n",
    "    cost=np.squeeze(cost)\n",
    "    return cost"
   ]
  },
  {
   "cell_type": "code",
   "execution_count": 14,
   "metadata": {
    "collapsed": true
   },
   "outputs": [],
   "source": [
    "def linear_backward(dZ, cache):\n",
    "    A_prev, W, b = cache\n",
    "    m = A_prev.shape[1]\n",
    "    dW = (1. / m) * np.dot(dZ, cache[0].T) \n",
    "    db = (1. / m) * np.sum(dZ, axis=1, keepdims=True)\n",
    "    dA_prev = np.dot(cache[1].T, dZ)\n",
    "    return dA_prev, dW, db"
   ]
  },
  {
   "cell_type": "code",
   "execution_count": 15,
   "metadata": {
    "collapsed": true
   },
   "outputs": [],
   "source": [
    "def linear_activation_backward(dA, cache, activation):\n",
    "    linear_cache, activation_cache = cache\n",
    "    if activation == \"tanh\":\n",
    "        dZ = tanh_backward(dA, activation_cache)\n",
    "        dA_prev, dW, db = linear_backward(dZ, linear_cache)\n",
    "    elif activation == \"sigmoid\":\n",
    "        dZ = sigmoid_backward(dA, activation_cache)\n",
    "        dA_prev, dW, db = linear_backward(dZ, linear_cache)\n",
    "    return dA_prev, dW, db"
   ]
  },
  {
   "cell_type": "code",
   "execution_count": 16,
   "metadata": {
    "collapsed": true
   },
   "outputs": [],
   "source": [
    "def L_model_backward(AL, Y, caches):\n",
    "    grads = {}\n",
    "    L = len(caches)\n",
    "    m = AL.shape[1]\n",
    "    Y = Y.reshape(AL.shape) \n",
    "    dAL = - (np.divide(Y, AL) - np.divide(1 - Y, 1 - AL))\n",
    "    current_cache = caches[-1]\n",
    "    grads[\"dA\" + str(L)], grads[\"dW\" + str(L)], grads[\"db\" + str(L)] = linear_activation_backward(dAL, current_cache, activation=\"sigmoid\")\n",
    "    \n",
    "    for l in reversed(range(L-1)):\n",
    "        current_cache = caches[l]\n",
    "        dA_prev_temp, dW_temp, db_temp = linear_activation_backward(grads[\"dA\" + str(l + 2)], current_cache, activation=\"tanh\")\n",
    "        grads[\"dA\" + str(l + 1)] = dA_prev_temp\n",
    "        grads[\"dW\" + str(l + 1)] = dW_temp\n",
    "        grads[\"db\" + str(l + 1)] = db_temp\n",
    "\n",
    "    return grads"
   ]
  },
  {
   "cell_type": "code",
   "execution_count": 17,
   "metadata": {
    "collapsed": true
   },
   "outputs": [],
   "source": [
    "def update_parameters(parameters, grads, learning_rate):\n",
    "    L = len(parameters) // 2 \n",
    "    for l in range(L):\n",
    "        parameters[\"W\" + str(l+1)] = parameters[\"W\" + str(l+1)] - learning_rate * grads[\"dW\" + str(l+1)]\n",
    "        parameters[\"b\" + str(l+1)] = parameters[\"b\" + str(l+1)] - learning_rate * grads[\"db\" + str(l+1)]\n",
    "    return parameters"
   ]
  },
  {
   "cell_type": "code",
   "execution_count": 18,
   "metadata": {
    "collapsed": true
   },
   "outputs": [],
   "source": [
    "def predict(model, x):\n",
    "    W1, b1, W2, b2 = model['W1'], model['b1'], model['W2'], model['b2']\n",
    "    z1 = np.dot(W1,x) + b1\n",
    "    a1 = np.tanh(z1)\n",
    "    z2 = np.dot(W2,a1) + b2\n",
    "    a2,z2=sigmoid(z2)\n",
    "    for i in range(a2.shape[1]):\n",
    "        if(a2[0,i]>0.5):\n",
    "            a2[0,i]=1\n",
    "        else:\n",
    "            a2[0,i]=0\n",
    "    return a2        "
   ]
  },
  {
   "cell_type": "code",
   "execution_count": 19,
   "metadata": {
    "collapsed": true
   },
   "outputs": [],
   "source": [
    "def L_layer_model(X, Y, layers_dims, learning_rate = 0.001, num_iterations = 3000, print_cost=False):\n",
    "    np.random.seed(1)\n",
    "    costs = []  \n",
    "    parameters = initialize_parameters(layers_dims)\n",
    "    for i in range(0, num_iterations):\n",
    "        AL, caches = L_model_forward(X, parameters)\n",
    "        cost = compute_cost(AL, Y)\n",
    "        grads = L_model_backward(AL, Y, caches)\n",
    "        parameters = update_parameters(parameters, grads, learning_rate=learning_rate)\n",
    "        if print_cost and i % 100 == 0:\n",
    "            print (\"Cost after iteration %i: %f\" %(i, cost))\n",
    "        if print_cost and i % 100 == 0:\n",
    "            costs.append(cost)\n",
    "    plt.plot(np.squeeze(costs))\n",
    "    plt.ylabel('cost')\n",
    "    plt.xlabel('iterations (per tens)')\n",
    "    plt.title(\"Learning rate =\" + str(learning_rate))\n",
    "    plt.show()\n",
    "    \n",
    "    return parameters"
   ]
  },
  {
   "cell_type": "code",
   "execution_count": 20,
   "metadata": {
    "collapsed": true
   },
   "outputs": [],
   "source": [
    "layers_dims=[2,5,1]"
   ]
  },
  {
   "cell_type": "code",
   "execution_count": 21,
   "metadata": {},
   "outputs": [
    {
     "name": "stdout",
     "output_type": "stream",
     "text": [
      "Cost after iteration 0: 0.693114\n",
      "Cost after iteration 100: 0.693095\n",
      "Cost after iteration 200: 0.693076\n",
      "Cost after iteration 300: 0.693057\n",
      "Cost after iteration 400: 0.693037\n",
      "Cost after iteration 500: 0.693017\n",
      "Cost after iteration 600: 0.692996\n",
      "Cost after iteration 700: 0.692975\n",
      "Cost after iteration 800: 0.692953\n",
      "Cost after iteration 900: 0.692930\n",
      "Cost after iteration 1000: 0.692906\n",
      "Cost after iteration 1100: 0.692882\n",
      "Cost after iteration 1200: 0.692856\n",
      "Cost after iteration 1300: 0.692829\n",
      "Cost after iteration 1400: 0.692801\n",
      "Cost after iteration 1500: 0.692771\n",
      "Cost after iteration 1600: 0.692740\n",
      "Cost after iteration 1700: 0.692708\n",
      "Cost after iteration 1800: 0.692673\n",
      "Cost after iteration 1900: 0.692637\n",
      "Cost after iteration 2000: 0.692599\n",
      "Cost after iteration 2100: 0.692558\n",
      "Cost after iteration 2200: 0.692515\n",
      "Cost after iteration 2300: 0.692470\n",
      "Cost after iteration 2400: 0.692422\n",
      "Cost after iteration 2500: 0.692371\n",
      "Cost after iteration 2600: 0.692316\n",
      "Cost after iteration 2700: 0.692259\n",
      "Cost after iteration 2800: 0.692198\n",
      "Cost after iteration 2900: 0.692133\n",
      "Cost after iteration 3000: 0.692065\n",
      "Cost after iteration 3100: 0.691991\n",
      "Cost after iteration 3200: 0.691914\n",
      "Cost after iteration 3300: 0.691831\n",
      "Cost after iteration 3400: 0.691744\n",
      "Cost after iteration 3500: 0.691650\n",
      "Cost after iteration 3600: 0.691551\n",
      "Cost after iteration 3700: 0.691446\n",
      "Cost after iteration 3800: 0.691333\n",
      "Cost after iteration 3900: 0.691214\n",
      "Cost after iteration 4000: 0.691087\n",
      "Cost after iteration 4100: 0.690952\n",
      "Cost after iteration 4200: 0.690809\n",
      "Cost after iteration 4300: 0.690656\n",
      "Cost after iteration 4400: 0.690494\n",
      "Cost after iteration 4500: 0.690321\n",
      "Cost after iteration 4600: 0.690137\n",
      "Cost after iteration 4700: 0.689942\n",
      "Cost after iteration 4800: 0.689734\n",
      "Cost after iteration 4900: 0.689514\n",
      "Cost after iteration 5000: 0.689279\n",
      "Cost after iteration 5100: 0.689030\n",
      "Cost after iteration 5200: 0.688764\n",
      "Cost after iteration 5300: 0.688483\n",
      "Cost after iteration 5400: 0.688184\n",
      "Cost after iteration 5500: 0.687866\n",
      "Cost after iteration 5600: 0.687528\n",
      "Cost after iteration 5700: 0.687169\n",
      "Cost after iteration 5800: 0.686789\n",
      "Cost after iteration 5900: 0.686384\n",
      "Cost after iteration 6000: 0.685956\n",
      "Cost after iteration 6100: 0.685501\n",
      "Cost after iteration 6200: 0.685018\n",
      "Cost after iteration 6300: 0.684506\n",
      "Cost after iteration 6400: 0.683963\n",
      "Cost after iteration 6500: 0.683388\n",
      "Cost after iteration 6600: 0.682779\n",
      "Cost after iteration 6700: 0.682133\n",
      "Cost after iteration 6800: 0.681450\n",
      "Cost after iteration 6900: 0.680727\n",
      "Cost after iteration 7000: 0.679962\n",
      "Cost after iteration 7100: 0.679153\n",
      "Cost after iteration 7200: 0.678298\n",
      "Cost after iteration 7300: 0.677395\n",
      "Cost after iteration 7400: 0.676441\n",
      "Cost after iteration 7500: 0.675434\n",
      "Cost after iteration 7600: 0.674372\n",
      "Cost after iteration 7700: 0.673253\n",
      "Cost after iteration 7800: 0.672073\n",
      "Cost after iteration 7900: 0.670831\n",
      "Cost after iteration 8000: 0.669525\n",
      "Cost after iteration 8100: 0.668151\n",
      "Cost after iteration 8200: 0.666707\n",
      "Cost after iteration 8300: 0.665191\n",
      "Cost after iteration 8400: 0.663601\n",
      "Cost after iteration 8500: 0.661935\n",
      "Cost after iteration 8600: 0.660189\n",
      "Cost after iteration 8700: 0.658363\n",
      "Cost after iteration 8800: 0.656453\n",
      "Cost after iteration 8900: 0.654459\n",
      "Cost after iteration 9000: 0.652378\n",
      "Cost after iteration 9100: 0.650209\n",
      "Cost after iteration 9200: 0.647951\n",
      "Cost after iteration 9300: 0.645603\n",
      "Cost after iteration 9400: 0.643163\n",
      "Cost after iteration 9500: 0.640632\n",
      "Cost after iteration 9600: 0.638008\n",
      "Cost after iteration 9700: 0.635292\n",
      "Cost after iteration 9800: 0.632484\n",
      "Cost after iteration 9900: 0.629585\n",
      "Cost after iteration 10000: 0.626596\n",
      "Cost after iteration 10100: 0.623517\n",
      "Cost after iteration 10200: 0.620352\n",
      "Cost after iteration 10300: 0.617101\n",
      "Cost after iteration 10400: 0.613767\n",
      "Cost after iteration 10500: 0.610353\n",
      "Cost after iteration 10600: 0.606862\n",
      "Cost after iteration 10700: 0.603297\n",
      "Cost after iteration 10800: 0.599662\n",
      "Cost after iteration 10900: 0.595962\n",
      "Cost after iteration 11000: 0.592200\n",
      "Cost after iteration 11100: 0.588382\n",
      "Cost after iteration 11200: 0.584511\n",
      "Cost after iteration 11300: 0.580594\n",
      "Cost after iteration 11400: 0.576635\n",
      "Cost after iteration 11500: 0.572639\n",
      "Cost after iteration 11600: 0.568613\n",
      "Cost after iteration 11700: 0.564562\n",
      "Cost after iteration 11800: 0.560491\n",
      "Cost after iteration 11900: 0.556407\n",
      "Cost after iteration 12000: 0.552314\n",
      "Cost after iteration 12100: 0.548218\n",
      "Cost after iteration 12200: 0.544125\n",
      "Cost after iteration 12300: 0.540040\n",
      "Cost after iteration 12400: 0.535967\n",
      "Cost after iteration 12500: 0.531913\n",
      "Cost after iteration 12600: 0.527881\n",
      "Cost after iteration 12700: 0.523877\n",
      "Cost after iteration 12800: 0.519904\n",
      "Cost after iteration 12900: 0.515967\n",
      "Cost after iteration 13000: 0.512069\n",
      "Cost after iteration 13100: 0.508214\n",
      "Cost after iteration 13200: 0.504406\n",
      "Cost after iteration 13300: 0.500646\n",
      "Cost after iteration 13400: 0.496937\n",
      "Cost after iteration 13500: 0.493283\n",
      "Cost after iteration 13600: 0.489685\n",
      "Cost after iteration 13700: 0.486145\n",
      "Cost after iteration 13800: 0.482665\n",
      "Cost after iteration 13900: 0.479245\n",
      "Cost after iteration 14000: 0.475887\n",
      "Cost after iteration 14100: 0.472592\n",
      "Cost after iteration 14200: 0.469361\n",
      "Cost after iteration 14300: 0.466193\n",
      "Cost after iteration 14400: 0.463090\n",
      "Cost after iteration 14500: 0.460050\n",
      "Cost after iteration 14600: 0.457075\n",
      "Cost after iteration 14700: 0.454164\n",
      "Cost after iteration 14800: 0.451316\n",
      "Cost after iteration 14900: 0.448531\n",
      "Cost after iteration 15000: 0.445808\n",
      "Cost after iteration 15100: 0.443147\n",
      "Cost after iteration 15200: 0.440547\n",
      "Cost after iteration 15300: 0.438007\n",
      "Cost after iteration 15400: 0.435526\n",
      "Cost after iteration 15500: 0.433102\n",
      "Cost after iteration 15600: 0.430736\n",
      "Cost after iteration 15700: 0.428425\n",
      "Cost after iteration 15800: 0.426169\n",
      "Cost after iteration 15900: 0.423967\n",
      "Cost after iteration 16000: 0.421816\n",
      "Cost after iteration 16100: 0.419717\n",
      "Cost after iteration 16200: 0.417667\n",
      "Cost after iteration 16300: 0.415666\n",
      "Cost after iteration 16400: 0.413712\n",
      "Cost after iteration 16500: 0.411805\n",
      "Cost after iteration 16600: 0.409942\n",
      "Cost after iteration 16700: 0.408123\n",
      "Cost after iteration 16800: 0.406347\n",
      "Cost after iteration 16900: 0.404612\n",
      "Cost after iteration 17000: 0.402917\n",
      "Cost after iteration 17100: 0.401261\n",
      "Cost after iteration 17200: 0.399644\n",
      "Cost after iteration 17300: 0.398063\n",
      "Cost after iteration 17400: 0.396517\n",
      "Cost after iteration 17500: 0.395007\n",
      "Cost after iteration 17600: 0.393530\n",
      "Cost after iteration 17700: 0.392086\n",
      "Cost after iteration 17800: 0.390673\n",
      "Cost after iteration 17900: 0.389292\n",
      "Cost after iteration 18000: 0.387940\n",
      "Cost after iteration 18100: 0.386617\n",
      "Cost after iteration 18200: 0.385323\n",
      "Cost after iteration 18300: 0.384055\n",
      "Cost after iteration 18400: 0.382814\n",
      "Cost after iteration 18500: 0.381599\n",
      "Cost after iteration 18600: 0.380409\n",
      "Cost after iteration 18700: 0.379242\n",
      "Cost after iteration 18800: 0.378100\n",
      "Cost after iteration 18900: 0.376979\n",
      "Cost after iteration 19000: 0.375881\n",
      "Cost after iteration 19100: 0.374805\n",
      "Cost after iteration 19200: 0.373749\n",
      "Cost after iteration 19300: 0.372714\n",
      "Cost after iteration 19400: 0.371698\n",
      "Cost after iteration 19500: 0.370701\n",
      "Cost after iteration 19600: 0.369722\n",
      "Cost after iteration 19700: 0.368762\n",
      "Cost after iteration 19800: 0.367819\n",
      "Cost after iteration 19900: 0.366893\n"
     ]
    },
    {
     "data": {
      "image/png": "[encoded data removed]",
      "text/plain": [
       "<matplotlib.figure.Figure at 0x7f862508ebe0>"
      ]
     },
     "metadata": {},
     "output_type": "display_data"
    }
   ],
   "source": [
    "parameters = L_layer_model(x,y, layers_dims, num_iterations = 20000, print_cost = True)"
   ]
  },
  {
   "cell_type": "code",
   "execution_count": 22,
   "metadata": {},
   "outputs": [],
   "source": [
    "y_predict=predict(parameters, x)"
   ]
  },
  {
   "cell_type": "code",
   "execution_count": 23,
   "metadata": {},
   "outputs": [
    {
     "data": {
      "text/plain": [
       "164"
      ]
     },
     "execution_count": 23,
     "metadata": {},
     "output_type": "execute_result"
    }
   ],
   "source": [
    "np.equal(y_predict,y).sum()"
   ]
  },
  {
   "cell_type": "code",
   "execution_count": null,
   "metadata": {},
   "outputs": [],
   "source": []
  },
  {
   "cell_type": "code",
   "execution_count": null,
   "metadata": {
    "collapsed": true
   },
   "outputs": [],
   "source": []
  }
 ],
 "metadata": {
  "kernelspec": {
   "display_name": "Python 3",
   "language": "python",
   "name": "python3"
  },
  "language_info": {
   "codemirror_mode": {
    "name": "ipython",
    "version": 3
   },
   "file_extension": ".py",
   "mimetype": "text/x-python",
   "name": "python",
   "nbconvert_exporter": "python",
   "pygments_lexer": "ipython3",
   "version": "3.6.3"
  }
 },
 "nbformat": 4,
 "nbformat_minor": 2
}
