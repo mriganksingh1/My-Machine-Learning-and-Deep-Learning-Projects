{
 "cells": [
  {
   "cell_type": "code",
   "execution_count": 1,
   "metadata": {},
   "outputs": [
    {
     "name": "stderr",
     "output_type": "stream",
     "text": [
      "/home/mrigank/anaconda3/lib/python3.6/site-packages/h5py/__init__.py:34: FutureWarning: Conversion of the second argument of issubdtype from `float` to `np.floating` is deprecated. In future, it will be treated as `np.float64 == np.dtype(float).type`.\n",
      "  from ._conv import register_converters as _register_converters\n",
      "/home/mrigank/anaconda3/lib/python3.6/site-packages/tensorflow/python/framework/dtypes.py:523: FutureWarning: Passing (type, 1) or '1type' as a synonym of type is deprecated; in a future version of numpy, it will be understood as (type, (1,)) / '(1,)type'.\n",
      "  _np_qint8 = np.dtype([(\"qint8\", np.int8, 1)])\n",
      "/home/mrigank/anaconda3/lib/python3.6/site-packages/tensorflow/python/framework/dtypes.py:524: FutureWarning: Passing (type, 1) or '1type' as a synonym of type is deprecated; in a future version of numpy, it will be understood as (type, (1,)) / '(1,)type'.\n",
      "  _np_quint8 = np.dtype([(\"quint8\", np.uint8, 1)])\n",
      "/home/mrigank/anaconda3/lib/python3.6/site-packages/tensorflow/python/framework/dtypes.py:525: FutureWarning: Passing (type, 1) or '1type' as a synonym of type is deprecated; in a future version of numpy, it will be understood as (type, (1,)) / '(1,)type'.\n",
      "  _np_qint16 = np.dtype([(\"qint16\", np.int16, 1)])\n",
      "/home/mrigank/anaconda3/lib/python3.6/site-packages/tensorflow/python/framework/dtypes.py:526: FutureWarning: Passing (type, 1) or '1type' as a synonym of type is deprecated; in a future version of numpy, it will be understood as (type, (1,)) / '(1,)type'.\n",
      "  _np_quint16 = np.dtype([(\"quint16\", np.uint16, 1)])\n",
      "/home/mrigank/anaconda3/lib/python3.6/site-packages/tensorflow/python/framework/dtypes.py:527: FutureWarning: Passing (type, 1) or '1type' as a synonym of type is deprecated; in a future version of numpy, it will be understood as (type, (1,)) / '(1,)type'.\n",
      "  _np_qint32 = np.dtype([(\"qint32\", np.int32, 1)])\n",
      "/home/mrigank/anaconda3/lib/python3.6/site-packages/tensorflow/python/framework/dtypes.py:532: FutureWarning: Passing (type, 1) or '1type' as a synonym of type is deprecated; in a future version of numpy, it will be understood as (type, (1,)) / '(1,)type'.\n",
      "  np_resource = np.dtype([(\"resource\", np.ubyte, 1)])\n"
     ]
    }
   ],
   "source": [
    "import numpy as np\n",
    "import pandas as pd\n",
    "import h5py\n",
    "import math\n",
    "import tensorflow as tf\n",
    "from tensorflow.python.framework import ops\n",
    "import matplotlib.pyplot as plt\n",
    "%matplotlib inline"
   ]
  },
  {
   "cell_type": "code",
   "execution_count": 2,
   "metadata": {
    "collapsed": true
   },
   "outputs": [],
   "source": [
    "def load_dataset():\n",
    "    train_dataset = h5py.File('datasets/train_catvnoncat.h5', \"r\")\n",
    "    train_set_x_orig = np.array(train_dataset[\"train_set_x\"][:]) # your train set features\n",
    "    train_set_y_orig = np.array(train_dataset[\"train_set_y\"][:]) # your train set labels\n",
    "\n",
    "    test_dataset = h5py.File('datasets/test_catvnoncat.h5', \"r\")\n",
    "    test_set_x_orig = np.array(test_dataset[\"test_set_x\"][:]) # your test set features\n",
    "    test_set_y_orig = np.array(test_dataset[\"test_set_y\"][:]) # your test set labels\n",
    "\n",
    "    classes = np.array(test_dataset[\"list_classes\"][:]) # the list of classes\n",
    "    \n",
    "    train_set_y_orig = train_set_y_orig.reshape((1, train_set_y_orig.shape[0]))\n",
    "    test_set_y_orig = test_set_y_orig.reshape((1, test_set_y_orig.shape[0]))\n",
    "    \n",
    "    return train_set_x_orig, train_set_y_orig, test_set_x_orig, test_set_y_orig, classes"
   ]
  },
  {
   "cell_type": "code",
   "execution_count": 3,
   "metadata": {
    "collapsed": true
   },
   "outputs": [],
   "source": [
    "x_train,y_train,x_test,y_test,classes=load_dataset()"
   ]
  },
  {
   "cell_type": "code",
   "execution_count": 4,
   "metadata": {},
   "outputs": [
    {
     "name": "stdout",
     "output_type": "stream",
     "text": [
      "(209, 64, 64, 3)\n",
      "(1, 209)\n",
      "(50, 64, 64, 3)\n"
     ]
    }
   ],
   "source": [
    "print(x_train.shape)\n",
    "print(y_train.shape)\n",
    "print(x_test.shape)"
   ]
  },
  {
   "cell_type": "code",
   "execution_count": 5,
   "metadata": {},
   "outputs": [
    {
     "name": "stdout",
     "output_type": "stream",
     "text": [
      "The label of the image is : [1]\n"
     ]
    },
    {
     "data": {
      "image/png": "[encoded data removed]",
      "text/plain": [
       "<matplotlib.figure.Figure at 0x7f271420eb00>"
      ]
     },
     "metadata": {},
     "output_type": "display_data"
    }
   ],
   "source": [
    "plt.imshow(x_train[7,])\n",
    "print(\"The label of the image is : \"+str(y_train[:,7]))"
   ]
  },
  {
   "cell_type": "code",
   "execution_count": 6,
   "metadata": {},
   "outputs": [
    {
     "name": "stdout",
     "output_type": "stream",
     "text": [
      "sanity check after reshaping: [17 31 56 22 33]\n"
     ]
    }
   ],
   "source": [
    "x_train=x_train.reshape(x_train.shape[0],-1).T\n",
    "x_test=x_test.reshape(x_test.shape[0],-1).T\n",
    "print (\"sanity check after reshaping: \" + str(x_train[0:5,0]))"
   ]
  },
  {
   "cell_type": "code",
   "execution_count": 7,
   "metadata": {
    "collapsed": true
   },
   "outputs": [],
   "source": [
    "x_train=x_train/255\n",
    "x_test=x_test/255"
   ]
  },
  {
   "cell_type": "code",
   "execution_count": 8,
   "metadata": {
    "collapsed": true
   },
   "outputs": [],
   "source": [
    "def convert_to_one_hot(Y, C):\n",
    "    Y = np.eye(C)[Y.reshape(-1)].T\n",
    "    return Y"
   ]
  },
  {
   "cell_type": "code",
   "execution_count": 9,
   "metadata": {},
   "outputs": [],
   "source": [
    "y_train=convert_to_one_hot(y_train,2)\n",
    "y_test=convert_to_one_hot(y_test,2)"
   ]
  },
  {
   "cell_type": "code",
   "execution_count": 10,
   "metadata": {},
   "outputs": [
    {
     "data": {
      "text/plain": [
       "(2, 209)"
      ]
     },
     "execution_count": 10,
     "metadata": {},
     "output_type": "execute_result"
    }
   ],
   "source": [
    "y_train.shape"
   ]
  },
  {
   "cell_type": "code",
   "execution_count": 11,
   "metadata": {},
   "outputs": [],
   "source": [
    "def create_placeholders(n_x,n_y):\n",
    "    x=tf.placeholder(tf.float32,shape=[n_x,None],name='x')\n",
    "    y=tf.placeholder(tf.float32,shape=[n_y,None],name='y')\n",
    "    return x,y"
   ]
  },
  {
   "cell_type": "code",
   "execution_count": 12,
   "metadata": {
    "collapsed": true
   },
   "outputs": [],
   "source": [
    "def initialize_parameters():\n",
    "    W1=tf.get_variable('W1',shape=[20,12288],initializer=tf.contrib.layers.xavier_initializer(seed=1))\n",
    "    b1=tf.get_variable('b1',shape=[20,1],initializer=tf.zeros_initializer())\n",
    "    W2=tf.get_variable('W2',shape=[7,20],initializer=tf.contrib.layers.xavier_initializer(seed=1))\n",
    "    b2=tf.get_variable('b2',shape=[7,1],initializer=tf.zeros_initializer())\n",
    "    W3=tf.get_variable('W3',shape=[5,7],initializer=tf.contrib.layers.xavier_initializer(seed=1))\n",
    "    b3=tf.get_variable('b3',shape=[5,1],initializer=tf.zeros_initializer())\n",
    "    W4=tf.get_variable('W4',shape=[2,5],initializer=tf.contrib.layers.xavier_initializer(seed=1))\n",
    "    b4=tf.get_variable('b4',shape=[2,1],initializer=tf.zeros_initializer())\n",
    "    parameters={'W1':W1,'b1':b1,'W2':W2,'b2':b2,'W3':W3,'b3':b3,'W4':W4,'b4':b4}\n",
    "    return parameters"
   ]
  },
  {
   "cell_type": "code",
   "execution_count": 13,
   "metadata": {
    "collapsed": true
   },
   "outputs": [],
   "source": [
    "def forward_propagation(x,parameters):\n",
    "    W1=parameters['W1']\n",
    "    W2=parameters['W2']\n",
    "    W3=parameters['W3']\n",
    "    W4=parameters['W4']\n",
    "    b1=parameters['b1']\n",
    "    b2=parameters['b2']\n",
    "    b3=parameters['b3']\n",
    "    b4=parameters['b4']\n",
    "    Z1=tf.add(tf.matmul(W1,x),b1)\n",
    "    A1=tf.nn.relu(Z1)\n",
    "    Z2=tf.add(tf.matmul(W2,A1),b2)\n",
    "    A2=tf.nn.tanh(Z2)\n",
    "    Z3=tf.add(tf.matmul(W3,A2),b3)\n",
    "    A3=tf.nn.relu(Z3)\n",
    "    Z4=tf.add(tf.matmul(W4,A3),b4)\n",
    "    A4=tf.sigmoid(Z4)\n",
    "    return A4"
   ]
  },
  {
   "cell_type": "code",
   "execution_count": 14,
   "metadata": {
    "collapsed": true
   },
   "outputs": [],
   "source": [
    "def compute_cost(A4,Y):\n",
    "    logits = tf.transpose(A4)\n",
    "    labels = tf.transpose(Y)\n",
    "    cost=tf.reduce_mean(tf.nn.softmax_cross_entropy_with_logits(logits=logits,labels=labels))\n",
    "    return cost"
   ]
  },
  {
   "cell_type": "code",
   "execution_count": 15,
   "metadata": {
    "collapsed": true
   },
   "outputs": [],
   "source": [
    "def random_mini_batches(X, Y, mini_batch_size = 64, seed = 0):\n",
    "    m = X.shape[1]          \n",
    "    mini_batches = []\n",
    "    np.random.seed(seed)\n",
    "    permutation = list(np.random.permutation(m))\n",
    "    shuffled_X = X[:, permutation]\n",
    "    shuffled_Y = Y[:, permutation].reshape((Y.shape[0],m))\n",
    "    num_complete_minibatches = math.floor(m/mini_batch_size)\n",
    "    for k in range(0, num_complete_minibatches):\n",
    "        mini_batch_X = shuffled_X[:, k * mini_batch_size : k * mini_batch_size + mini_batch_size]\n",
    "        mini_batch_Y = shuffled_Y[:, k * mini_batch_size : k * mini_batch_size + mini_batch_size]\n",
    "        mini_batch = (mini_batch_X, mini_batch_Y)\n",
    "        mini_batches.append(mini_batch)\n",
    "    if m % mini_batch_size != 0:\n",
    "        mini_batch_X = shuffled_X[:, num_complete_minibatches * mini_batch_size : m]\n",
    "        mini_batch_Y = shuffled_Y[:, num_complete_minibatches * mini_batch_size : m]\n",
    "        mini_batch = (mini_batch_X, mini_batch_Y)\n",
    "        mini_batches.append(mini_batch)\n",
    "    return mini_batches"
   ]
  },
  {
   "cell_type": "code",
   "execution_count": 16,
   "metadata": {
    "collapsed": true
   },
   "outputs": [],
   "source": [
    "def model(X_train,Y_train,X_test,Y_test,learning_rate=0.0075,num_epochs=2500,minibatch_size=32):\n",
    "    ops.reset_default_graph()           \n",
    "    tf.set_random_seed(1)                             \n",
    "    seed = 3                                          \n",
    "    (n_x, m) = X_train.shape                          \n",
    "    n_y = Y_train.shape[0]\n",
    "    costs=[]\n",
    "    x,y=create_placeholders(n_x,n_y)\n",
    "    parameters=initialize_parameters()\n",
    "    A4=forward_propagation(x,parameters)\n",
    "    cost=compute_cost(A4,y)\n",
    "    optimizer=tf.train.GradientDescentOptimizer(learning_rate=learning_rate).minimize(cost)\n",
    "    init=tf.global_variables_initializer()\n",
    "    with tf.Session() as sess:\n",
    "        sess.run(init)\n",
    "        for epochs in range(num_epochs):\n",
    "            epoch_cost=0\n",
    "            num_minibatches=int(m/minibatch_size)\n",
    "            seed=seed+1\n",
    "            mini_batches=random_mini_batches(X_train,Y_train,minibatch_size,seed)\n",
    "            for mini_batch in mini_batches:\n",
    "                (minibatch_x,minibatch_y)=mini_batch\n",
    "                _,minibatch_cost=sess.run([optimizer,cost],feed_dict={x:minibatch_x,y:minibatch_y})\n",
    "                epoch_cost += minibatch_cost /num_minibatches\n",
    "            if epochs % 100 == 0:\n",
    "                print (\"Cost after epoch %i: %f\" % (epochs, epoch_cost))\n",
    "            if epochs % 5 == 0:\n",
    "                costs.append(epoch_cost)\n",
    "        plt.plot(np.squeeze(costs))\n",
    "        plt.ylabel('cost')\n",
    "        plt.xlabel('iterations (per tens)')\n",
    "        plt.title(\"Learning rate =\" + str(learning_rate))\n",
    "        plt.show()\n",
    "        parameters=sess.run(parameters)\n",
    "        print(\"Parameters have been trained\")\n",
    "        correct_prediction = tf.equal(tf.argmax(A4), tf.argmax(y))\n",
    "        accuracy = tf.reduce_mean(tf.cast(correct_prediction, \"float\"))\n",
    "        print (\"Train Accuracy:\", accuracy.eval({x: X_train, y: Y_train}))\n",
    "        print (\"Test Accuracy:\", accuracy.eval({x: X_test, y: Y_test}))\n",
    "        return parameters"
   ]
  },
  {
   "cell_type": "code",
   "execution_count": 17,
   "metadata": {},
   "outputs": [
    {
     "name": "stdout",
     "output_type": "stream",
     "text": [
      "WARNING:tensorflow:From <ipython-input-14-56a5843f385a>:4: softmax_cross_entropy_with_logits (from tensorflow.python.ops.nn_ops) is deprecated and will be removed in a future version.\n",
      "Instructions for updating:\n",
      "\n",
      "Future major versions of TensorFlow will allow gradients to flow\n",
      "into the labels input on backprop by default.\n",
      "\n",
      "See @{tf.nn.softmax_cross_entropy_with_logits_v2}.\n",
      "\n",
      "Cost after epoch 0: 0.814367\n",
      "Cost after epoch 100: 0.754089\n",
      "Cost after epoch 200: 0.623700\n",
      "Cost after epoch 300: 0.481029\n",
      "Cost after epoch 400: 0.414202\n",
      "Cost after epoch 500: 0.407900\n",
      "Cost after epoch 600: 0.391240\n",
      "Cost after epoch 700: 0.388176\n",
      "Cost after epoch 800: 0.386467\n",
      "Cost after epoch 900: 0.385368\n",
      "Cost after epoch 1000: 0.384663\n",
      "Cost after epoch 1100: 0.384105\n",
      "Cost after epoch 1200: 0.383674\n",
      "Cost after epoch 1300: 0.383379\n",
      "Cost after epoch 1400: 0.383134\n",
      "Cost after epoch 1500: 0.382928\n",
      "Cost after epoch 1600: 0.382755\n",
      "Cost after epoch 1700: 0.382617\n",
      "Cost after epoch 1800: 0.382492\n",
      "Cost after epoch 1900: 0.386971\n",
      "Cost after epoch 2000: 0.382313\n",
      "Cost after epoch 2100: 0.382216\n",
      "Cost after epoch 2200: 0.382134\n",
      "Cost after epoch 2300: 0.382082\n",
      "Cost after epoch 2400: 0.382033\n"
     ]
    },
    {
     "data": {
      "image/png": "[encoded data removed]",
      "text/plain": [
       "<matplotlib.figure.Figure at 0x7f27026b4828>"
      ]
     },
     "metadata": {},
     "output_type": "display_data"
    },
    {
     "name": "stdout",
     "output_type": "stream",
     "text": [
      "Parameters have been trained\n",
      "Train Accuracy: 0.98564595\n",
      "Test Accuracy: 0.78\n"
     ]
    }
   ],
   "source": [
    "parameters=model(x_train,y_train,x_test,y_test)"
   ]
  },
  {
   "cell_type": "code",
   "execution_count": null,
   "metadata": {
    "collapsed": true
   },
   "outputs": [],
   "source": []
  }
 ],
 "metadata": {
  "kernelspec": {
   "display_name": "Python 3",
   "language": "python",
   "name": "python3"
  },
  "language_info": {
   "codemirror_mode": {
    "name": "ipython",
    "version": 3
   },
   "file_extension": ".py",
   "mimetype": "text/x-python",
   "name": "python",
   "nbconvert_exporter": "python",
   "pygments_lexer": "ipython3",
   "version": "3.6.3"
  }
 },
 "nbformat": 4,
 "nbformat_minor": 2
}
